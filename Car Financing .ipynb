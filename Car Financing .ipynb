{
 "cells": [
  {
   "cell_type": "markdown",
   "id": "048c51d2",
   "metadata": {},
   "source": [
    "## CAR FINANCING DATA VISUALIZATION PROJECT"
   ]
  },
  {
   "cell_type": "markdown",
   "id": "9323d93b",
   "metadata": {},
   "source": [
    "## Importing needed libraries"
   ]
  },
  {
   "cell_type": "code",
   "execution_count": 24,
   "id": "bcec3b62",
   "metadata": {},
   "outputs": [],
   "source": [
    "%matplotlib inline\n",
    "import pandas as pd\n",
    "import numpy as np\n",
    "import matplotlib.pyplot as plt\n",
    "import seaborn as sns"
   ]
  },
  {
   "cell_type": "markdown",
   "id": "79e5cd0a",
   "metadata": {},
   "source": [
    "## Importing Data Set"
   ]
  },
  {
   "cell_type": "code",
   "execution_count": 25,
   "id": "89b2bc43",
   "metadata": {},
   "outputs": [
    {
     "data": {
      "text/html": [
       "<div>\n",
       "<style scoped>\n",
       "    .dataframe tbody tr th:only-of-type {\n",
       "        vertical-align: middle;\n",
       "    }\n",
       "\n",
       "    .dataframe tbody tr th {\n",
       "        vertical-align: top;\n",
       "    }\n",
       "\n",
       "    .dataframe thead th {\n",
       "        text-align: right;\n",
       "    }\n",
       "</style>\n",
       "<table border=\"1\" class=\"dataframe\">\n",
       "  <thead>\n",
       "    <tr style=\"text-align: right;\">\n",
       "      <th></th>\n",
       "      <th>Month</th>\n",
       "      <th>Starting Balance</th>\n",
       "      <th>Repayment</th>\n",
       "      <th>Interest Paid</th>\n",
       "      <th>Principal Paid</th>\n",
       "      <th>New Balance</th>\n",
       "      <th>term</th>\n",
       "      <th>interest_rate</th>\n",
       "      <th>car_type</th>\n",
       "    </tr>\n",
       "  </thead>\n",
       "  <tbody>\n",
       "    <tr>\n",
       "      <th>0</th>\n",
       "      <td>1</td>\n",
       "      <td>34689.96</td>\n",
       "      <td>687.23</td>\n",
       "      <td>202.93</td>\n",
       "      <td>484.30</td>\n",
       "      <td>34205.66</td>\n",
       "      <td>60</td>\n",
       "      <td>0.0702</td>\n",
       "      <td>Toyota Sienna</td>\n",
       "    </tr>\n",
       "    <tr>\n",
       "      <th>1</th>\n",
       "      <td>2</td>\n",
       "      <td>34205.66</td>\n",
       "      <td>687.23</td>\n",
       "      <td>200.10</td>\n",
       "      <td>487.13</td>\n",
       "      <td>33718.53</td>\n",
       "      <td>60</td>\n",
       "      <td>0.0702</td>\n",
       "      <td>Toyota Sienna</td>\n",
       "    </tr>\n",
       "    <tr>\n",
       "      <th>2</th>\n",
       "      <td>3</td>\n",
       "      <td>33718.53</td>\n",
       "      <td>687.23</td>\n",
       "      <td>197.25</td>\n",
       "      <td>489.98</td>\n",
       "      <td>33228.55</td>\n",
       "      <td>60</td>\n",
       "      <td>0.0702</td>\n",
       "      <td>Toyota Sienna</td>\n",
       "    </tr>\n",
       "    <tr>\n",
       "      <th>3</th>\n",
       "      <td>4</td>\n",
       "      <td>33228.55</td>\n",
       "      <td>687.23</td>\n",
       "      <td>194.38</td>\n",
       "      <td>492.85</td>\n",
       "      <td>32735.70</td>\n",
       "      <td>60</td>\n",
       "      <td>0.0702</td>\n",
       "      <td>Toyota Sienna</td>\n",
       "    </tr>\n",
       "    <tr>\n",
       "      <th>4</th>\n",
       "      <td>5</td>\n",
       "      <td>32735.70</td>\n",
       "      <td>687.23</td>\n",
       "      <td>191.50</td>\n",
       "      <td>495.73</td>\n",
       "      <td>32239.97</td>\n",
       "      <td>60</td>\n",
       "      <td>0.0702</td>\n",
       "      <td>Toyota Sienna</td>\n",
       "    </tr>\n",
       "  </tbody>\n",
       "</table>\n",
       "</div>"
      ],
      "text/plain": [
       "   Month  Starting Balance  Repayment  Interest Paid  Principal Paid  \\\n",
       "0      1          34689.96     687.23         202.93          484.30   \n",
       "1      2          34205.66     687.23         200.10          487.13   \n",
       "2      3          33718.53     687.23         197.25          489.98   \n",
       "3      4          33228.55     687.23         194.38          492.85   \n",
       "4      5          32735.70     687.23         191.50          495.73   \n",
       "\n",
       "   New Balance  term  interest_rate       car_type  \n",
       "0     34205.66    60         0.0702  Toyota Sienna  \n",
       "1     33718.53    60         0.0702  Toyota Sienna  \n",
       "2     33228.55    60         0.0702  Toyota Sienna  \n",
       "3     32735.70    60         0.0702  Toyota Sienna  \n",
       "4     32239.97    60         0.0702  Toyota Sienna  "
      ]
     },
     "execution_count": 25,
     "metadata": {},
     "output_type": "execute_result"
    }
   ],
   "source": [
    "df = pd.read_csv(\"car_financing.csv\")\n",
    "df.head()"
   ]
  },
  {
   "cell_type": "markdown",
   "id": "d6d1cbb9",
   "metadata": {},
   "source": [
    "## Exploring data"
   ]
  },
  {
   "cell_type": "code",
   "execution_count": 26,
   "id": "99cc0169",
   "metadata": {},
   "outputs": [
    {
     "name": "stdout",
     "output_type": "stream",
     "text": [
      "<class 'pandas.core.frame.DataFrame'>\n",
      "RangeIndex: 408 entries, 0 to 407\n",
      "Data columns (total 9 columns):\n",
      " #   Column            Non-Null Count  Dtype  \n",
      "---  ------            --------------  -----  \n",
      " 0   Month             408 non-null    int64  \n",
      " 1   Starting Balance  408 non-null    float64\n",
      " 2   Repayment         408 non-null    float64\n",
      " 3   Interest Paid     408 non-null    float64\n",
      " 4   Principal Paid    408 non-null    float64\n",
      " 5   New Balance       408 non-null    float64\n",
      " 6   term              408 non-null    int64  \n",
      " 7   interest_rate     408 non-null    float64\n",
      " 8   car_type          408 non-null    object \n",
      "dtypes: float64(6), int64(2), object(1)\n",
      "memory usage: 28.8+ KB\n"
     ]
    }
   ],
   "source": [
    "df.info()"
   ]
  },
  {
   "cell_type": "markdown",
   "id": "010b7bc4",
   "metadata": {},
   "source": [
    "## Renaming some of the columns\n",
    "To make it easy to manipulate "
   ]
  },
  {
   "cell_type": "code",
   "execution_count": 27,
   "id": "ddbe7383",
   "metadata": {},
   "outputs": [],
   "source": [
    "df.columns = ['month','starting_balance','repayment','interest_paid','principal_paid','new_balance','term','interest_rate'\n",
    "              ,'car_type' ]"
   ]
  },
  {
   "cell_type": "code",
   "execution_count": 28,
   "id": "525eedc9",
   "metadata": {},
   "outputs": [
    {
     "data": {
      "text/html": [
       "<div>\n",
       "<style scoped>\n",
       "    .dataframe tbody tr th:only-of-type {\n",
       "        vertical-align: middle;\n",
       "    }\n",
       "\n",
       "    .dataframe tbody tr th {\n",
       "        vertical-align: top;\n",
       "    }\n",
       "\n",
       "    .dataframe thead th {\n",
       "        text-align: right;\n",
       "    }\n",
       "</style>\n",
       "<table border=\"1\" class=\"dataframe\">\n",
       "  <thead>\n",
       "    <tr style=\"text-align: right;\">\n",
       "      <th></th>\n",
       "      <th>month</th>\n",
       "      <th>starting_balance</th>\n",
       "      <th>repayment</th>\n",
       "      <th>interest_paid</th>\n",
       "      <th>principal_paid</th>\n",
       "      <th>new_balance</th>\n",
       "      <th>term</th>\n",
       "      <th>interest_rate</th>\n",
       "      <th>car_type</th>\n",
       "    </tr>\n",
       "  </thead>\n",
       "  <tbody>\n",
       "    <tr>\n",
       "      <th>0</th>\n",
       "      <td>1</td>\n",
       "      <td>34689.96</td>\n",
       "      <td>687.23</td>\n",
       "      <td>202.93</td>\n",
       "      <td>484.30</td>\n",
       "      <td>34205.66</td>\n",
       "      <td>60</td>\n",
       "      <td>0.0702</td>\n",
       "      <td>Toyota Sienna</td>\n",
       "    </tr>\n",
       "    <tr>\n",
       "      <th>1</th>\n",
       "      <td>2</td>\n",
       "      <td>34205.66</td>\n",
       "      <td>687.23</td>\n",
       "      <td>200.10</td>\n",
       "      <td>487.13</td>\n",
       "      <td>33718.53</td>\n",
       "      <td>60</td>\n",
       "      <td>0.0702</td>\n",
       "      <td>Toyota Sienna</td>\n",
       "    </tr>\n",
       "    <tr>\n",
       "      <th>2</th>\n",
       "      <td>3</td>\n",
       "      <td>33718.53</td>\n",
       "      <td>687.23</td>\n",
       "      <td>197.25</td>\n",
       "      <td>489.98</td>\n",
       "      <td>33228.55</td>\n",
       "      <td>60</td>\n",
       "      <td>0.0702</td>\n",
       "      <td>Toyota Sienna</td>\n",
       "    </tr>\n",
       "    <tr>\n",
       "      <th>3</th>\n",
       "      <td>4</td>\n",
       "      <td>33228.55</td>\n",
       "      <td>687.23</td>\n",
       "      <td>194.38</td>\n",
       "      <td>492.85</td>\n",
       "      <td>32735.70</td>\n",
       "      <td>60</td>\n",
       "      <td>0.0702</td>\n",
       "      <td>Toyota Sienna</td>\n",
       "    </tr>\n",
       "    <tr>\n",
       "      <th>4</th>\n",
       "      <td>5</td>\n",
       "      <td>32735.70</td>\n",
       "      <td>687.23</td>\n",
       "      <td>191.50</td>\n",
       "      <td>495.73</td>\n",
       "      <td>32239.97</td>\n",
       "      <td>60</td>\n",
       "      <td>0.0702</td>\n",
       "      <td>Toyota Sienna</td>\n",
       "    </tr>\n",
       "  </tbody>\n",
       "</table>\n",
       "</div>"
      ],
      "text/plain": [
       "   month  starting_balance  repayment  interest_paid  principal_paid  \\\n",
       "0      1          34689.96     687.23         202.93          484.30   \n",
       "1      2          34205.66     687.23         200.10          487.13   \n",
       "2      3          33718.53     687.23         197.25          489.98   \n",
       "3      4          33228.55     687.23         194.38          492.85   \n",
       "4      5          32735.70     687.23         191.50          495.73   \n",
       "\n",
       "   new_balance  term  interest_rate       car_type  \n",
       "0     34205.66    60         0.0702  Toyota Sienna  \n",
       "1     33718.53    60         0.0702  Toyota Sienna  \n",
       "2     33228.55    60         0.0702  Toyota Sienna  \n",
       "3     32735.70    60         0.0702  Toyota Sienna  \n",
       "4     32239.97    60         0.0702  Toyota Sienna  "
      ]
     },
     "execution_count": 28,
     "metadata": {},
     "output_type": "execute_result"
    }
   ],
   "source": [
    "df.head()"
   ]
  },
  {
   "cell_type": "markdown",
   "id": "0142ec53",
   "metadata": {},
   "source": [
    "## Deleting columns"
   ]
  },
  {
   "cell_type": "code",
   "execution_count": 29,
   "id": "157a8463",
   "metadata": {},
   "outputs": [],
   "source": [
    "df.drop(columns = [\"repayment\", \"term\"], inplace= True)"
   ]
  },
  {
   "cell_type": "markdown",
   "id": "7c7374b7",
   "metadata": {},
   "source": [
    "## Filtering data"
   ]
  },
  {
   "cell_type": "code",
   "execution_count": 30,
   "id": "db387c0a",
   "metadata": {},
   "outputs": [
    {
     "data": {
      "text/html": [
       "<div>\n",
       "<style scoped>\n",
       "    .dataframe tbody tr th:only-of-type {\n",
       "        vertical-align: middle;\n",
       "    }\n",
       "\n",
       "    .dataframe tbody tr th {\n",
       "        vertical-align: top;\n",
       "    }\n",
       "\n",
       "    .dataframe thead th {\n",
       "        text-align: right;\n",
       "    }\n",
       "</style>\n",
       "<table border=\"1\" class=\"dataframe\">\n",
       "  <thead>\n",
       "    <tr style=\"text-align: right;\">\n",
       "      <th></th>\n",
       "      <th>month</th>\n",
       "      <th>starting_balance</th>\n",
       "      <th>interest_paid</th>\n",
       "      <th>principal_paid</th>\n",
       "      <th>new_balance</th>\n",
       "      <th>interest_rate</th>\n",
       "      <th>car_type</th>\n",
       "    </tr>\n",
       "  </thead>\n",
       "  <tbody>\n",
       "    <tr>\n",
       "      <th>0</th>\n",
       "      <td>1</td>\n",
       "      <td>34689.96</td>\n",
       "      <td>202.93</td>\n",
       "      <td>484.30</td>\n",
       "      <td>34205.66</td>\n",
       "      <td>0.0702</td>\n",
       "      <td>Toyota Sienna</td>\n",
       "    </tr>\n",
       "    <tr>\n",
       "      <th>1</th>\n",
       "      <td>2</td>\n",
       "      <td>34205.66</td>\n",
       "      <td>200.10</td>\n",
       "      <td>487.13</td>\n",
       "      <td>33718.53</td>\n",
       "      <td>0.0702</td>\n",
       "      <td>Toyota Sienna</td>\n",
       "    </tr>\n",
       "    <tr>\n",
       "      <th>2</th>\n",
       "      <td>3</td>\n",
       "      <td>33718.53</td>\n",
       "      <td>197.25</td>\n",
       "      <td>489.98</td>\n",
       "      <td>33228.55</td>\n",
       "      <td>0.0702</td>\n",
       "      <td>Toyota Sienna</td>\n",
       "    </tr>\n",
       "    <tr>\n",
       "      <th>3</th>\n",
       "      <td>4</td>\n",
       "      <td>33228.55</td>\n",
       "      <td>194.38</td>\n",
       "      <td>492.85</td>\n",
       "      <td>32735.70</td>\n",
       "      <td>0.0702</td>\n",
       "      <td>Toyota Sienna</td>\n",
       "    </tr>\n",
       "    <tr>\n",
       "      <th>4</th>\n",
       "      <td>5</td>\n",
       "      <td>32735.70</td>\n",
       "      <td>191.50</td>\n",
       "      <td>495.73</td>\n",
       "      <td>32239.97</td>\n",
       "      <td>0.0702</td>\n",
       "      <td>Toyota Sienna</td>\n",
       "    </tr>\n",
       "  </tbody>\n",
       "</table>\n",
       "</div>"
      ],
      "text/plain": [
       "   month  starting_balance  interest_paid  principal_paid  new_balance  \\\n",
       "0      1          34689.96         202.93          484.30     34205.66   \n",
       "1      2          34205.66         200.10          487.13     33718.53   \n",
       "2      3          33718.53         197.25          489.98     33228.55   \n",
       "3      4          33228.55         194.38          492.85     32735.70   \n",
       "4      5          32735.70         191.50          495.73     32239.97   \n",
       "\n",
       "   interest_rate       car_type  \n",
       "0         0.0702  Toyota Sienna  \n",
       "1         0.0702  Toyota Sienna  \n",
       "2         0.0702  Toyota Sienna  \n",
       "3         0.0702  Toyota Sienna  \n",
       "4         0.0702  Toyota Sienna  "
      ]
     },
     "execution_count": 30,
     "metadata": {},
     "output_type": "execute_result"
    }
   ],
   "source": [
    "car_filter = df[\"car_type\"] == \"Toyota Sienna\"\n",
    "df = df[car_filter]\n",
    "df.head()"
   ]
  },
  {
   "cell_type": "code",
   "execution_count": 31,
   "id": "66c006b4",
   "metadata": {},
   "outputs": [
    {
     "name": "stdout",
     "output_type": "stream",
     "text": [
      "<class 'pandas.core.frame.DataFrame'>\n",
      "Int64Index: 120 entries, 0 to 119\n",
      "Data columns (total 7 columns):\n",
      " #   Column            Non-Null Count  Dtype  \n",
      "---  ------            --------------  -----  \n",
      " 0   month             120 non-null    int64  \n",
      " 1   starting_balance  120 non-null    float64\n",
      " 2   interest_paid     120 non-null    float64\n",
      " 3   principal_paid    120 non-null    float64\n",
      " 4   new_balance       120 non-null    float64\n",
      " 5   interest_rate     120 non-null    float64\n",
      " 6   car_type          120 non-null    object \n",
      "dtypes: float64(5), int64(1), object(1)\n",
      "memory usage: 7.5+ KB\n"
     ]
    }
   ],
   "source": [
    "df.info()"
   ]
  },
  {
   "cell_type": "code",
   "execution_count": 32,
   "id": "179e0784",
   "metadata": {},
   "outputs": [
    {
     "data": {
      "text/plain": [
       "0.0702    60\n",
       "0.0359    60\n",
       "Name: interest_rate, dtype: int64"
      ]
     },
     "execution_count": 32,
     "metadata": {},
     "output_type": "execute_result"
    }
   ],
   "source": [
    "df['interest_rate'].value_counts()"
   ]
  },
  {
   "cell_type": "code",
   "execution_count": 33,
   "id": "04f9e416",
   "metadata": {},
   "outputs": [],
   "source": [
    "interest_filter = df['interest_rate'] == 0.0702\n",
    "df = df[interest_filter]"
   ]
  },
  {
   "cell_type": "code",
   "execution_count": 34,
   "id": "05e693fb",
   "metadata": {},
   "outputs": [
    {
     "name": "stdout",
     "output_type": "stream",
     "text": [
      "<class 'pandas.core.frame.DataFrame'>\n",
      "Int64Index: 60 entries, 0 to 59\n",
      "Data columns (total 7 columns):\n",
      " #   Column            Non-Null Count  Dtype  \n",
      "---  ------            --------------  -----  \n",
      " 0   month             60 non-null     int64  \n",
      " 1   starting_balance  60 non-null     float64\n",
      " 2   interest_paid     60 non-null     float64\n",
      " 3   principal_paid    60 non-null     float64\n",
      " 4   new_balance       60 non-null     float64\n",
      " 5   interest_rate     60 non-null     float64\n",
      " 6   car_type          60 non-null     object \n",
      "dtypes: float64(5), int64(1), object(1)\n",
      "memory usage: 3.8+ KB\n"
     ]
    }
   ],
   "source": [
    "df.info()"
   ]
  },
  {
   "cell_type": "markdown",
   "id": "97628fe5",
   "metadata": {},
   "source": [
    "## Plotting Columns"
   ]
  },
  {
   "cell_type": "code",
   "execution_count": 36,
   "id": "fc84424b",
   "metadata": {},
   "outputs": [],
   "source": [
    "month_number = df.loc[:, 'month'].values\n",
    "interest_paid = df.loc[:, 'interest_paid'].values\n",
    "principal_paid = df.loc[:, 'principal_paid'].values"
   ]
  },
  {
   "cell_type": "markdown",
   "id": "1687b74f",
   "metadata": {},
   "source": [
    "Reviewing available styles of plotting"
   ]
  },
  {
   "cell_type": "code",
   "execution_count": 37,
   "id": "80052d39",
   "metadata": {},
   "outputs": [
    {
     "data": {
      "text/plain": [
       "['Solarize_Light2',\n",
       " '_classic_test_patch',\n",
       " '_mpl-gallery',\n",
       " '_mpl-gallery-nogrid',\n",
       " 'bmh',\n",
       " 'classic',\n",
       " 'dark_background',\n",
       " 'fast',\n",
       " 'fivethirtyeight',\n",
       " 'ggplot',\n",
       " 'grayscale',\n",
       " 'seaborn-v0_8',\n",
       " 'seaborn-v0_8-bright',\n",
       " 'seaborn-v0_8-colorblind',\n",
       " 'seaborn-v0_8-dark',\n",
       " 'seaborn-v0_8-dark-palette',\n",
       " 'seaborn-v0_8-darkgrid',\n",
       " 'seaborn-v0_8-deep',\n",
       " 'seaborn-v0_8-muted',\n",
       " 'seaborn-v0_8-notebook',\n",
       " 'seaborn-v0_8-paper',\n",
       " 'seaborn-v0_8-pastel',\n",
       " 'seaborn-v0_8-poster',\n",
       " 'seaborn-v0_8-talk',\n",
       " 'seaborn-v0_8-ticks',\n",
       " 'seaborn-v0_8-white',\n",
       " 'seaborn-v0_8-whitegrid',\n",
       " 'tableau-colorblind10']"
      ]
     },
     "execution_count": 37,
     "metadata": {},
     "output_type": "execute_result"
    }
   ],
   "source": [
    "plt.style.available"
   ]
  },
  {
   "cell_type": "code",
   "execution_count": 54,
   "id": "a455d18d",
   "metadata": {},
   "outputs": [
    {
     "data": {
      "image/png": "[encoded data removed]",
      "text/plain": [
       "<Figure size 640x480 with 1 Axes>"
      ]
     },
     "metadata": {},
     "output_type": "display_data"
    }
   ],
   "source": [
    "plt.style.use(\"seaborn-v0_8-dark\")\n",
    "plt.plot(month_number, interest_paid,marker='*', c='blue', label=\"Interest\")\n",
    "plt.plot(month_number, principal_paid,marker='.', c='green', label = \"Principal\")\n",
    "plt.xlabel(\"Month\", fontsize=15)\n",
    "plt.ylabel(\"Paid Number\", fontsize=15)\n",
    "plt.xlim(left=1, right=60)\n",
    "plt.ylim(bottom=0, top=700)\n",
    "plt.title(\"Interest and Principal rate\", fontsize = 15)\n",
    "plt.legend(loc = \"center right\")\n",
    "plt.grid();"
   ]
  },
  {
   "cell_type": "markdown",
   "id": "d5e4055a",
   "metadata": {},
   "source": [
    "## Creating a boxplot between Month and Interest rate"
   ]
  },
  {
   "cell_type": "code",
   "execution_count": 57,
   "id": "6e5875f9",
   "metadata": {},
   "outputs": [
    {
     "data": {
      "image/png": "[encoded data removed]",
      "text/plain": [
       "<Figure size 640x480 with 1 Axes>"
      ]
     },
     "metadata": {},
     "output_type": "display_data"
    }
   ],
   "source": [
    "sns.boxenplot(x = 'interest_rate', y= 'month', data = df);"
   ]
  },
  {
   "cell_type": "markdown",
   "id": "d2a57a3d",
   "metadata": {},
   "source": [
    "## Creating a heatmap"
   ]
  },
  {
   "cell_type": "markdown",
   "id": "a58946fa",
   "metadata": {},
   "source": [
    "First, we need to drop car type column"
   ]
  },
  {
   "cell_type": "code",
   "execution_count": 60,
   "id": "5178f1b6",
   "metadata": {},
   "outputs": [],
   "source": [
    "df.drop(columns = \"car_type\", inplace = True)"
   ]
  },
  {
   "cell_type": "code",
   "execution_count": 75,
   "id": "116cf76e",
   "metadata": {},
   "outputs": [],
   "source": [
    "df.drop(columns = \"interest_rate\", inplace = True)"
   ]
  },
  {
   "cell_type": "code",
   "execution_count": 79,
   "id": "f010221a",
   "metadata": {},
   "outputs": [],
   "source": [
    "correlation = df.corr()"
   ]
  },
  {
   "cell_type": "code",
   "execution_count": 84,
   "id": "2b2f8e69",
   "metadata": {},
   "outputs": [
    {
     "data": {
      "image/png": "[encoded data removed]",
      "text/plain": [
       "<Figure size 600x600 with 2 Axes>"
      ]
     },
     "metadata": {},
     "output_type": "display_data"
    }
   ],
   "source": [
    "plt.figure(figsize=(6,6))\n",
    "sns.heatmap(correlation,annot=True, cmap = \"Blues\")\n",
    "plt.ylabel('Actual label', size = 15)\n",
    "plt.xlabel('Predicted label', size = 15)\n",
    "plt.tight_layout();"
   ]
  }
 ],
 "metadata": {
  "kernelspec": {
   "display_name": "Python 3 (ipykernel)",
   "language": "python",
   "name": "python3"
  },
  "language_info": {
   "codemirror_mode": {
    "name": "ipython",
    "version": 3
   },
   "file_extension": ".py",
   "mimetype": "text/x-python",
   "name": "python",
   "nbconvert_exporter": "python",
   "pygments_lexer": "ipython3",
   "version": "3.10.9"
  }
 },
 "nbformat": 4,
 "nbformat_minor": 5
}
